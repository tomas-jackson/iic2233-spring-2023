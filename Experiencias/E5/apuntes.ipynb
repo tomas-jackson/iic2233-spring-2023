{
 "cells": [
  {
   "attachments": {},
   "cell_type": "markdown",
   "metadata": {},
   "source": [
    "## Lista Ligada\n",
    "- Definimos una clase nodo que crea un nodo que solo conoce el valor de si mismo y el nodo siguiente\n",
    "- Finalmente, cada nodo se \"conecta\" al nodo siguiente\n",
    "    - el primero se llama 'cabeza' mientras que el ultimo es la 'cola'\n",
    "- En un futuro podremos usar listas ligadas para hacer una clase iterable\n",
    "- Creamos metodos dentro de la clase Lista Ligada para poder buscar, eliminar, reemplazar Nodos\n",
    "### "
   ]
  }
 ],
 "metadata": {
  "language_info": {
   "name": "python"
  },
  "orig_nbformat": 4
 },
 "nbformat": 4,
 "nbformat_minor": 2
}
